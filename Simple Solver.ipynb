{
    "cells": [
        {
            "cell_type": "markdown",
            "id": "given-interaction",
            "metadata": {},
            "source": "### Media-buying optimization with linear programming using docplex\n\nMedia planners, as their title suggests, plan advertising placements for their campaigns across a variety of different platforms. This planning involves a certain amount of media-buying, wherein third party media must be purchased according to the demands of the campaign. This is an incredibly messy process, with media planners often unable to sort through and adequately compare different publishers' offerings for sponsored content, such as articles or videos. \n\nIn this typical example, a media planner is given constraints by their organization. They need to hit two audiences served by two different publications.\n\nAssume Publication 1 {pub1} is a B2B-focused technology news platform that serves the Southeast Asia market, and Publication 2 {pub2} is a B2B-focused technology news platform that serves the ANZ market. \n\nPublication 1 receives higher viewership at lower cost, but serves a less valuable customer for readers of its branded content (measured in the click-through rates provided). Publication 2 receives lower viewership at higher cost, but serves a more valuable customer as defined by click-through numbers.\n\nThe task of the media planner is to maximize their given budget ($30,000) and allocate it efficiently across the two publications."
        },
        {
            "cell_type": "markdown",
            "id": "second-fighter",
            "metadata": {},
            "source": "### Import the docplex Model"
        },
        {
            "cell_type": "code",
            "execution_count": 1,
            "id": "velvet-croatia",
            "metadata": {},
            "outputs": [],
            "source": "from docplex.mp.model import Model"
        },
        {
            "cell_type": "markdown",
            "id": "superb-thread",
            "metadata": {},
            "source": "We will use docplex and its package 'model' to maximize the values we want within the constraints provided by the media planner's organization"
        },
        {
            "cell_type": "code",
            "execution_count": 2,
            "id": "southern-asbestos",
            "metadata": {},
            "outputs": [],
            "source": "m_views=Model(name='View Optimizer_Views')"
        },
        {
            "cell_type": "markdown",
            "id": "ecological-tender",
            "metadata": {},
            "source": "### Defining the variables\n\nAssume pub1 and pub2 represent two non-overlapping audiences we want to hit.\n\nWe will use a sample product from each publication - usually a standard 'sponsored article' also known as an 'advertorial'.\n\nWe need to find out the recommended proportion of articles from each publication to maximize viewership and our given budget.\n"
        },
        {
            "cell_type": "code",
            "execution_count": 3,
            "id": "local-chase",
            "metadata": {},
            "outputs": [],
            "source": "#items variables\npub1 = m_views.continuous_var(name='publication 1 no. of articles')\npub2 = m_views.continuous_var(name='publication 2 no. of articles')"
        },
        {
            "cell_type": "markdown",
            "id": "studied-volunteer",
            "metadata": {},
            "source": "Here we define our continous variables as the number of articles we will requisition from each of the two publishers"
        },
        {
            "cell_type": "code",
            "execution_count": 4,
            "id": "sought-kazakhstan",
            "metadata": {},
            "outputs": [],
            "source": "#costs per article\npub1costs = 5000\npub2costs = 6000"
        },
        {
            "cell_type": "markdown",
            "id": "designing-dress",
            "metadata": {},
            "source": "The costs for one article are given in dollars here from each publication respectively"
        },
        {
            "cell_type": "code",
            "execution_count": 5,
            "id": "vocal-sussex",
            "metadata": {},
            "outputs": [],
            "source": "#views variable\npub1views= 7000\npub2views= 3000"
        },
        {
            "cell_type": "markdown",
            "id": "revolutionary-drinking",
            "metadata": {},
            "source": "The views of each publication (assuming non-overlapping) will be compared against cost\n\nWe will also need to justify the constraints by calculating expected conversion later on"
        },
        {
            "cell_type": "markdown",
            "id": "external-porter",
            "metadata": {},
            "source": "### Constraints"
        },
        {
            "cell_type": "code",
            "execution_count": 6,
            "id": "second-system",
            "metadata": {},
            "outputs": [],
            "source": "#assume client wants at least one of each, without decimal\npub1constraint= m_views.add_constraint(pub1>=2)\npub2constraint= m_views.add_constraint(pub2>=1)"
        },
        {
            "cell_type": "markdown",
            "id": "noticed-springfield",
            "metadata": {},
            "source": "The constraints provided by media planner's organization request at least 14000 views from Southeast Asia and 3000 from ANZ, based on their own internal calculations of conversion value"
        },
        {
            "cell_type": "code",
            "execution_count": 7,
            "id": "varied-fiction",
            "metadata": {},
            "outputs": [],
            "source": "#costs constraint, say 30,000\nbudget = 30000\ntotalcostconstraint=m_views.add_constraint(m_views.sum([pub1*pub1costs,pub2*pub2costs])<=budget)"
        },
        {
            "cell_type": "markdown",
            "id": "typical-corpus",
            "metadata": {},
            "source": "This is the total constraint value being loaded into a linear programming format"
        },
        {
            "cell_type": "markdown",
            "id": "representative-protocol",
            "metadata": {},
            "source": "### Use the maximize function to solve the equation"
        },
        {
            "cell_type": "code",
            "execution_count": 8,
            "id": "hawaiian-extreme",
            "metadata": {},
            "outputs": [],
            "source": "#Maximize function\nm_views.maximize(pub1*pub1views+pub2*pub2views)\n"
        },
        {
            "cell_type": "markdown",
            "id": "collect-batch",
            "metadata": {},
            "source": "Our value 'm' is now passed through the docplex maximize function with its original variables, the constraints are located in totalcostconstraint"
        },
        {
            "cell_type": "code",
            "execution_count": 9,
            "id": "dedicated-commission",
            "metadata": {},
            "outputs": [],
            "source": "solver_views=m_views.solve()"
        },
        {
            "cell_type": "code",
            "execution_count": 10,
            "id": "agreed-isolation",
            "metadata": {},
            "outputs": [
                {
                    "name": "stdout",
                    "output_type": "stream",
                    "text": "solution for: View Optimizer_Views\nobjective: 36600.000\npublication 1 no. of articles = 4.800\npublication 2 no. of articles = 1.000\n"
                }
            ],
            "source": "solver_views.display()"
        },
        {
            "cell_type": "markdown",
            "id": "white-boring",
            "metadata": {},
            "source": "The solver overwhelming prefers publication 1, this is likely due to the view difference between the two publications being too wide"
        },
        {
            "cell_type": "markdown",
            "id": "wicked-blast",
            "metadata": {},
            "source": "### Find the expected results of the campaign by summing the outputs"
        },
        {
            "cell_type": "code",
            "execution_count": 11,
            "id": "religious-northwest",
            "metadata": {},
            "outputs": [],
            "source": "#convert to integers since we can usually only purchase whole articles\npub1_max_articles = int(solver_views.get_value(pub1))\npub2_max_articles = int(solver_views.get_value(pub2))\n\npub1_spend = pub1_max_articles * pub1costs\npub2_spend = pub2_max_articles * pub2costs"
        },
        {
            "cell_type": "code",
            "execution_count": 12,
            "id": "minor-rogers",
            "metadata": {},
            "outputs": [],
            "source": "total_spend = pub1_spend + pub2_spend\ntotal_views = (pub1_max_articles * pub1views) + (pub2_max_articles * pub2views)\nremainder = budget - total_spend"
        },
        {
            "cell_type": "code",
            "execution_count": 13,
            "id": "loving-yahoo",
            "metadata": {},
            "outputs": [
                {
                    "name": "stdout",
                    "output_type": "stream",
                    "text": "Total spend: 26000, Total views: 31000, Remainder:4000\n"
                }
            ],
            "source": "print(f\"Total spend: {total_spend}, Total views: {total_views}, Remainder:{remainder}\")"
        },
        {
            "cell_type": "markdown",
            "id": "legitimate-poker",
            "metadata": {},
            "source": "The budget is finalized with 4 articles from Publication 1 and 1 from Publication 2 with a remainder of $3000 - this is not great for the media planner. They need to use their budget or lose it. \n\nAssuming our media planner is content with increasing their per-dollar cost for views, we could increase the spend on Publication 2. To make this decision, we must infer the expected ROI from each publication in a seperate solver."
        },
        {
            "cell_type": "markdown",
            "id": "changed-french",
            "metadata": {},
            "source": "### Repeat for an ROI (conversion) focused comparison"
        },
        {
            "cell_type": "code",
            "execution_count": 14,
            "id": "authentic-render",
            "metadata": {},
            "outputs": [],
            "source": "#ROI variables\npub1_conversions_per_article = 70\npub2_conversions_per_article = 100"
        },
        {
            "cell_type": "markdown",
            "id": "choice-mexico",
            "metadata": {},
            "source": "Assume that each publisher is able to give a reasonable expectation of click-throughs (this is pure fantasy, as no publisher would ever reveal these stats due to their abysmal nature) designated as cost-per-click (CPC) onwards to the media planner's campaign.\n\nWe also want to retain our minimum constraints, given we still have a minimnum view target to hit. There is a difference of 50 conversions (click-throughs) between articles. We are choosing to represent this number as per article rather than per view, given that this is how these numbers are actually deduced on the publisher side."
        },
        {
            "cell_type": "code",
            "execution_count": 15,
            "id": "black-invitation",
            "metadata": {},
            "outputs": [],
            "source": "m_ROI=Model(name='CPC Optimizer_ROI')\n#New model for new constraints and variables\npub1_ROI = m_ROI.continuous_var(name='publication 1 no. of articles ROI')\npub2_ROI = m_ROI.continuous_var(name='publication 2 no. of articles ROI')"
        },
        {
            "cell_type": "code",
            "execution_count": 16,
            "id": "checked-deployment",
            "metadata": {},
            "outputs": [],
            "source": "pub1constraint_ROI= m_ROI.add_constraint(pub1_ROI>=2)\npub2constraint_ROI= m_ROI.add_constraint(pub2_ROI>=1)\n#Remove minimum constraints\ntotalcostconstraint_ROI=m_ROI.add_constraint(m_ROI.sum([pub1_ROI*pub1costs,pub2_ROI*pub2costs])<=30000)\nm_ROI.maximize(pub1*pub1_conversions_per_article+pub2*pub2_conversions_per_article)"
        },
        {
            "cell_type": "code",
            "execution_count": 17,
            "id": "popular-strike",
            "metadata": {},
            "outputs": [],
            "source": "solver_ROI=m_ROI.solve()"
        },
        {
            "cell_type": "code",
            "execution_count": 18,
            "id": "persistent-publication",
            "metadata": {},
            "outputs": [
                {
                    "name": "stdout",
                    "output_type": "stream",
                    "text": "solution for: CPC Optimizer_ROI\nobjective: 473.333\npublication 1 no. of articles ROI = 2.000\npublication 2 no. of articles ROI = 3.333\n"
                }
            ],
            "source": "solver_ROI.display()"
        },
        {
            "cell_type": "code",
            "execution_count": 19,
            "id": "smart-stevens",
            "metadata": {},
            "outputs": [],
            "source": "pub1_ROI_optimized=int(solver_ROI.get_value(pub1_ROI))\npub2_ROI_optimized=int(solver_ROI.get_value(pub2_ROI))\npub1_spend_ROI = pub1_ROI_optimized * pub1costs\npub2_spend_ROI = pub2_ROI_optimized * pub2costs"
        },
        {
            "cell_type": "code",
            "execution_count": 20,
            "id": "precious-closing",
            "metadata": {},
            "outputs": [],
            "source": "total_spend2 = pub1_spend + pub2_spend\n### We can also calculate total conversions for the first method - (maximizing by views) here\ntotal_conversions = (pub1_max_articles * pub1_conversions_per_article) + (pub2_max_articles * pub2_conversions_per_article)\ntotal_conversions2 = (pub1_ROI_optimized * pub1_conversions_per_article) + (pub2_ROI_optimized * pub2_conversions_per_article)\ntotal_views2 = (pub1_ROI_optimized * pub1views) + (pub2_ROI_optimized * pub2views)\nremainder2 = budget - total_spend"
        },
        {
            "cell_type": "code",
            "execution_count": 21,
            "id": "blond-monte",
            "metadata": {},
            "outputs": [
                {
                    "name": "stdout",
                    "output_type": "stream",
                    "text": "View-maximizing solver -> Total spend: 26000, Total views: 31000, Total conversions: 380, Remainder:4000\nROI-maximizing solver -> Total spend: 26000, Total views: 23000, Total conversions: 440, Remainder:4000\n"
                }
            ],
            "source": "print(f\"View-maximizing solver -> Total spend: {total_spend}, Total views: {total_views}, Total conversions: {total_conversions}, Remainder:{remainder}\")\nprint(f\"ROI-maximizing solver -> Total spend: {total_spend2}, Total views: {total_views2}, Total conversions: {total_conversions2}, Remainder:{remainder2}\")"
        },
        {
            "cell_type": "markdown",
            "id": "three-uruguay",
            "metadata": {},
            "source": "### Wa-wa-wee-wah\n\nInterestingly, the solver returns a much lower value for articles from Publication 1 - it is the mininmum required. The slightly higher value of 30 more conversions per article for Publication 2 has resulted in a total conversion difference of 60 more, with a penalty of 8000 less views. Although minimums are hit, it is always difficult to justify the difference between the magnitude of these two numbers. 8000 more views or 60 more conversions? Media planners are often prone to this kind of magnitude fixation. The next step would be to see which of the two publishers have click-throughs that are turning into a conversion. One enterprise-level conversion can practically cover the expense of this campaign and then some in this technology industry.\n\nHowever, we are still left with $3000 remainder. This cannot really be avoided given the difficulty of fitting the prices for each publisher inside the stipulated budget.\n\nThe lesson here is two fold:\n\n1) Decide if your campaign is going to focus on conversion or awareness - while you can do both within the same campaign, publisher products may not be optimized for such across different markets. It is ultimately a little fruitless to compare views across vastly different geos if they display a pattern that inspired our View-maximizing solver. Conversions are likely more valuable for any performance marketer, so it would be pertinent to decide amongst those two early, especially in this B2B example.\n \n2) Always ask for budget after running an optimization...\n\n\nTo learn more about optimizing media budgets when selecting publishers, message me at jamin@campaignr.biz"
        }
    ],
    "metadata": {
        "kernelspec": {
            "display_name": "Python 3.7",
            "language": "python",
            "name": "python3"
        },
        "language_info": {
            "codemirror_mode": {
                "name": "ipython",
                "version": 3
            },
            "file_extension": ".py",
            "mimetype": "text/x-python",
            "name": "python",
            "nbconvert_exporter": "python",
            "pygments_lexer": "ipython3",
            "version": "3.7.11"
        }
    },
    "nbformat": 4,
    "nbformat_minor": 5
}